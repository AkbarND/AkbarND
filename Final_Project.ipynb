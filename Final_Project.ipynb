{
  "nbformat": 4,
  "nbformat_minor": 0,
  "metadata": {
    "colab": {
      "name": "Untitled1.ipynb",
      "provenance": [],
      "toc_visible": true,
      "mount_file_id": "1ygDO5Kr18ujiD19P7zIURTqlBC4RfRgo",
      "authorship_tag": "ABX9TyOLZNLn6p7SJ22cJrJkpnPW",
      "include_colab_link": true
    },
    "kernelspec": {
      "name": "python3",
      "display_name": "Python 3"
    },
    "language_info": {
      "name": "python"
    }
  },
  "cells": [
    {
      "cell_type": "markdown",
      "metadata": {
        "id": "view-in-github",
        "colab_type": "text"
      },
      "source": [
        "<a href=\"https://colab.research.google.com/github/AkbarND/AkbarND/blob/main/Final_Project.ipynb\" target=\"_parent\"><img src=\"https://colab.research.google.com/assets/colab-badge.svg\" alt=\"Open In Colab\"/></a>"
      ]
    },
    {
      "cell_type": "code",
      "source": [
        "from keras.models import load_model\n",
        "from time import sleep\n",
        "from keras.preprocessing.image import img_to_array\n",
        "from keras.preprocessing import image\n",
        "import cv2\n",
        "import numpy as np\n"
      ],
      "metadata": {
        "id": "eSNWJ0oL90FK"
      },
      "execution_count": 7,
      "outputs": []
    },
    {
      "cell_type": "code",
      "source": [
        "face_classifier = cv2.CascadeClassifier('/content/drive/MyDrive/Visi Komputer Tugas Akhir/Emotion_Detection_CNN-main/Emotion_Detection_CNN-main/haarcascade_frontalface_default.xml')\n",
        "classifier = load_model('/content/drive/MyDrive/Visi Komputer Tugas Akhir/Emotion_Detection_CNN-main/Emotion_Detection_CNN-main/model.h5')\n",
        "\n",
        "class_labels = ['Angry','Happy','Neutral','Sad','Surprise']\n",
        "\n",
        "cap = cv2.VideoCapture(0)"
      ],
      "metadata": {
        "id": "MeO8DT3sBGvG"
      },
      "execution_count": 12,
      "outputs": []
    },
    {
      "cell_type": "code",
      "source": [
        "while True:\n",
        "  ret, frame = cap.read()\n",
        "  labels = []\n",
        "  gray = cv2.cvtColor(frame,cv2.COLOR_BGR2GRAY)\n",
        "  faces = face_classifier.detectMultiScale(gray,1.3,5)\n",
        "\n",
        "  for (x,y,w,h) in faces:\n",
        "    cv2.rectangle(frame,(x,y),(x+w,y+h),(255,0,0),2)\n",
        "    roi_gray = gray[y:y+h,x:x+w]\n",
        "    roi_gray = cv2.resize(roi_gray,(48,48),interpolation=cv2.INTER_AREA)\n",
        "\n",
        "    if np.sum([roi_gray])!=0:\n",
        "      roi = roi_gray.astype('float')/255.0\n",
        "      roi = img_to_array(roi)\n",
        "      roi = np.expand_dims(roi,axis=0)"
      ],
      "metadata": {
        "id": "JA3lVF5OCQSC"
      },
      "execution_count": null,
      "outputs": []
    }
  ]
}